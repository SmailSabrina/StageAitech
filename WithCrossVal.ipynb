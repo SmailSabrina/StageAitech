{
 "cells": [
  {
   "cell_type": "code",
   "execution_count": 1,
   "metadata": {},
   "outputs": [],
   "source": [
    "import numpy as np\n",
    "import pandas as pd\n",
    "# ^^^ pyforest auto-imports - don't write above this line\n",
    "import pandas as pd\n",
    "import numpy as np\n",
    "import pandas as pd\n",
    "import numpy as np\n",
    "import matplotlib.pyplot as plt"
   ]
  },
  {
   "cell_type": "code",
   "execution_count": 1,
   "metadata": {},
   "outputs": [
    {
     "data": {
      "application/javascript": [
       "\n",
       "        if (window._pyforest_update_imports_cell) { window._pyforest_update_imports_cell('import pandas as pd'); }\n",
       "    "
      ],
      "text/plain": [
       "<IPython.core.display.Javascript object>"
      ]
     },
     "metadata": {},
     "output_type": "display_data"
    },
    {
     "data": {
      "text/html": [
       "<div>\n",
       "<style scoped>\n",
       "    .dataframe tbody tr th:only-of-type {\n",
       "        vertical-align: middle;\n",
       "    }\n",
       "\n",
       "    .dataframe tbody tr th {\n",
       "        vertical-align: top;\n",
       "    }\n",
       "\n",
       "    .dataframe thead th {\n",
       "        text-align: right;\n",
       "    }\n",
       "</style>\n",
       "<table border=\"1\" class=\"dataframe\">\n",
       "  <thead>\n",
       "    <tr style=\"text-align: right;\">\n",
       "      <th></th>\n",
       "      <th>Unnamed: 0</th>\n",
       "      <th>Unnamed: 0.1</th>\n",
       "      <th>Area</th>\n",
       "      <th>Year</th>\n",
       "      <th>rainfall</th>\n",
       "      <th>Temperature</th>\n",
       "      <th>Citrus Production(hg/ha)</th>\n",
       "      <th>Pesticide quantity</th>\n",
       "      <th>Qte azote(N)</th>\n",
       "      <th>Qte Engrais phosphatés</th>\n",
       "      <th>Qte potasse K2O</th>\n",
       "      <th>temp Mar–Apr–May</th>\n",
       "      <th>temp Jun–Jul–Aug</th>\n",
       "      <th>temp Sep–Oct–Nov</th>\n",
       "      <th>temp year</th>\n",
       "    </tr>\n",
       "  </thead>\n",
       "  <tbody>\n",
       "    <tr>\n",
       "      <td>0</td>\n",
       "      <td>0</td>\n",
       "      <td>0</td>\n",
       "      <td>Afghanistan</td>\n",
       "      <td>1991</td>\n",
       "      <td>42.236691</td>\n",
       "      <td>14.478166</td>\n",
       "      <td>70657</td>\n",
       "      <td>0.0</td>\n",
       "      <td>5.33</td>\n",
       "      <td>0.72</td>\n",
       "      <td>0.0</td>\n",
       "      <td>0.237</td>\n",
       "      <td>0.790</td>\n",
       "      <td>1.180</td>\n",
       "      <td>0.370</td>\n",
       "    </tr>\n",
       "    <tr>\n",
       "      <td>1</td>\n",
       "      <td>1</td>\n",
       "      <td>1</td>\n",
       "      <td>Afghanistan</td>\n",
       "      <td>1992</td>\n",
       "      <td>37.210779</td>\n",
       "      <td>13.893307</td>\n",
       "      <td>66977</td>\n",
       "      <td>0.0</td>\n",
       "      <td>4.84</td>\n",
       "      <td>0.86</td>\n",
       "      <td>0.0</td>\n",
       "      <td>-0.998</td>\n",
       "      <td>0.317</td>\n",
       "      <td>0.956</td>\n",
       "      <td>0.228</td>\n",
       "    </tr>\n",
       "    <tr>\n",
       "      <td>2</td>\n",
       "      <td>2</td>\n",
       "      <td>2</td>\n",
       "      <td>Afghanistan</td>\n",
       "      <td>1993</td>\n",
       "      <td>29.689033</td>\n",
       "      <td>14.773843</td>\n",
       "      <td>68619</td>\n",
       "      <td>0.0</td>\n",
       "      <td>5.04</td>\n",
       "      <td>0.00</td>\n",
       "      <td>0.0</td>\n",
       "      <td>0.798</td>\n",
       "      <td>0.488</td>\n",
       "      <td>0.812</td>\n",
       "      <td>0.720</td>\n",
       "    </tr>\n",
       "    <tr>\n",
       "      <td>3</td>\n",
       "      <td>3</td>\n",
       "      <td>3</td>\n",
       "      <td>Afghanistan</td>\n",
       "      <td>1994</td>\n",
       "      <td>30.157220</td>\n",
       "      <td>14.715501</td>\n",
       "      <td>69209</td>\n",
       "      <td>0.0</td>\n",
       "      <td>5.04</td>\n",
       "      <td>0.00</td>\n",
       "      <td>0.0</td>\n",
       "      <td>1.259</td>\n",
       "      <td>1.690</td>\n",
       "      <td>0.907</td>\n",
       "      <td>0.971</td>\n",
       "    </tr>\n",
       "    <tr>\n",
       "      <td>4</td>\n",
       "      <td>4</td>\n",
       "      <td>4</td>\n",
       "      <td>Afghanistan</td>\n",
       "      <td>1995</td>\n",
       "      <td>27.260774</td>\n",
       "      <td>14.812504</td>\n",
       "      <td>69721</td>\n",
       "      <td>0.0</td>\n",
       "      <td>5.04</td>\n",
       "      <td>0.00</td>\n",
       "      <td>0.0</td>\n",
       "      <td>0.307</td>\n",
       "      <td>1.551</td>\n",
       "      <td>1.484</td>\n",
       "      <td>0.911</td>\n",
       "    </tr>\n",
       "  </tbody>\n",
       "</table>\n",
       "</div>"
      ],
      "text/plain": [
       "   Unnamed: 0  Unnamed: 0.1         Area  Year   rainfall  Temperature  \\\n",
       "0           0             0  Afghanistan  1991  42.236691    14.478166   \n",
       "1           1             1  Afghanistan  1992  37.210779    13.893307   \n",
       "2           2             2  Afghanistan  1993  29.689033    14.773843   \n",
       "3           3             3  Afghanistan  1994  30.157220    14.715501   \n",
       "4           4             4  Afghanistan  1995  27.260774    14.812504   \n",
       "\n",
       "   Citrus Production(hg/ha)  Pesticide quantity  Qte azote(N)  \\\n",
       "0                     70657                 0.0          5.33   \n",
       "1                     66977                 0.0          4.84   \n",
       "2                     68619                 0.0          5.04   \n",
       "3                     69209                 0.0          5.04   \n",
       "4                     69721                 0.0          5.04   \n",
       "\n",
       "   Qte Engrais phosphatés  Qte potasse K2O  temp Mar–Apr–May  \\\n",
       "0                    0.72              0.0             0.237   \n",
       "1                    0.86              0.0            -0.998   \n",
       "2                    0.00              0.0             0.798   \n",
       "3                    0.00              0.0             1.259   \n",
       "4                    0.00              0.0             0.307   \n",
       "\n",
       "   temp Jun–Jul–Aug  temp Sep–Oct–Nov  temp year  \n",
       "0             0.790             1.180      0.370  \n",
       "1             0.317             0.956      0.228  \n",
       "2             0.488             0.812      0.720  \n",
       "3             1.690             0.907      0.971  \n",
       "4             1.551             1.484      0.911  "
      ]
     },
     "execution_count": 1,
     "metadata": {},
     "output_type": "execute_result"
    }
   ],
   "source": [
    "# import completeDataset.csv\n",
    "data=pd.read_csv(\"data2/production.csv\")\n",
    "data.head()\n"
   ]
  },
  {
   "cell_type": "code",
   "execution_count": 2,
   "metadata": {},
   "outputs": [],
   "source": [
    "X=data.drop([\"Area\",\"Citrus Production(hg/ha)\",\"Unnamed: 0\",\"Unnamed: 0.1\"],axis=1)\n",
    "Y=data[\"Citrus Production(hg/ha)\"]\n"
   ]
  },
  {
   "cell_type": "code",
   "execution_count": 3,
   "metadata": {},
   "outputs": [
    {
     "data": {
      "application/javascript": [
       "\n",
       "        if (window._pyforest_update_imports_cell) { window._pyforest_update_imports_cell('import pandas as pd'); }\n",
       "    "
      ],
      "text/plain": [
       "<IPython.core.display.Javascript object>"
      ]
     },
     "metadata": {},
     "output_type": "display_data"
    },
    {
     "data": {
      "application/javascript": [
       "\n",
       "        if (window._pyforest_update_imports_cell) { window._pyforest_update_imports_cell('import pandas as pd'); }\n",
       "    "
      ],
      "text/plain": [
       "<IPython.core.display.Javascript object>"
      ]
     },
     "metadata": {},
     "output_type": "display_data"
    },
    {
     "data": {
      "application/javascript": [
       "\n",
       "        if (window._pyforest_update_imports_cell) { window._pyforest_update_imports_cell('import pandas as pd'); }\n",
       "    "
      ],
      "text/plain": [
       "<IPython.core.display.Javascript object>"
      ]
     },
     "metadata": {},
     "output_type": "display_data"
    },
    {
     "data": {
      "application/javascript": [
       "\n",
       "        if (window._pyforest_update_imports_cell) { window._pyforest_update_imports_cell('import numpy as np\\nimport pandas as pd'); }\n",
       "    "
      ],
      "text/plain": [
       "<IPython.core.display.Javascript object>"
      ]
     },
     "metadata": {},
     "output_type": "display_data"
    },
    {
     "data": {
      "application/javascript": [
       "\n",
       "        if (window._pyforest_update_imports_cell) { window._pyforest_update_imports_cell('import numpy as np\\nimport pandas as pd'); }\n",
       "    "
      ],
      "text/plain": [
       "<IPython.core.display.Javascript object>"
      ]
     },
     "metadata": {},
     "output_type": "display_data"
    },
    {
     "name": "stdout",
     "output_type": "stream",
     "text": [
      "Mean :116805.98370435035\n",
      "VAR : 203886.8023908932\n"
     ]
    },
    {
     "data": {
      "text/plain": [
       "(6873, 157)"
      ]
     },
     "execution_count": 3,
     "metadata": {},
     "output_type": "execute_result"
    }
   ],
   "source": [
    "data=pd.read_csv(\"data2/production.csv\")\n",
    "categ= pd.get_dummies(data, columns=[\"Area\"]) \n",
    "#categ.head()\n",
    "data= pd.merge(data,categ,how=\"inner\")\n",
    "###\n",
    "\n",
    "###droping columns\n",
    "X=data.drop([\"Area\",\"Citrus Production(hg/ha)\",\"Unnamed: 0\",\"Unnamed: 0.1\"],axis=1)\n",
    "Y=data[\"Citrus Production(hg/ha)\"]\n",
    "mean_y=np.mean(Y)\n",
    "std_var=np.var(Y)**(1/2)\n",
    "print(\"Mean :\"+str(mean_y))\n",
    "print(\"VAR : \"+str(std_var))\n",
    "#normalizing target data\n",
    "Y=(Y-mean_y)/std_var\n",
    "X.shape"
   ]
  },
  {
   "cell_type": "code",
   "execution_count": 4,
   "metadata": {},
   "outputs": [
    {
     "data": {
      "application/javascript": [
       "\n",
       "        if (window._pyforest_update_imports_cell) { window._pyforest_update_imports_cell('import numpy as np\\nimport pandas as pd'); }\n",
       "    "
      ],
      "text/plain": [
       "<IPython.core.display.Javascript object>"
      ]
     },
     "metadata": {},
     "output_type": "display_data"
    },
    {
     "data": {
      "text/plain": [
       "70772.44640851556"
      ]
     },
     "execution_count": 4,
     "metadata": {},
     "output_type": "execute_result"
    }
   ],
   "source": [
    "X=X.loc[list(Y<3),:]\n",
    "Y=Y.loc[list(Y<3)]\n",
    "std_var=np.var(Y)**(1/2)*std_var\n",
    "std_var"
   ]
  },
  {
   "cell_type": "code",
   "execution_count": 5,
   "metadata": {},
   "outputs": [],
   "source": [
    "from sklearn.model_selection import train_test_split\n",
    "\n"
   ]
  },
  {
   "cell_type": "code",
   "execution_count": 6,
   "metadata": {},
   "outputs": [],
   "source": [
    "X_train, X_test, y_train, y_test = train_test_split(X, Y, test_size=0.2)"
   ]
  },
  {
   "cell_type": "code",
   "execution_count": 7,
   "metadata": {},
   "outputs": [],
   "source": [
    "from sklearn.linear_model import LinearRegression\n"
   ]
  },
  {
   "cell_type": "code",
   "execution_count": 17,
   "metadata": {},
   "outputs": [
    {
     "data": {
      "text/plain": [
       "LinearRegression()"
      ]
     },
     "execution_count": 17,
     "metadata": {},
     "output_type": "execute_result"
    }
   ],
   "source": [
    "\n",
    "# Create model\n",
    "\n",
    "lm = LinearRegression()\n",
    "lm.fit(X_train, y_train)\n"
   ]
  },
  {
   "cell_type": "code",
   "execution_count": 24,
   "metadata": {},
   "outputs": [],
   "source": [
    "y_hat_test = lm.predict(X_test)\n"
   ]
  },
  {
   "cell_type": "code",
   "execution_count": 10,
   "metadata": {},
   "outputs": [],
   "source": [
    "from sklearn.model_selection import cross_val_score\n"
   ]
  },
  {
   "cell_type": "code",
   "execution_count": 21,
   "metadata": {},
   "outputs": [],
   "source": [
    "# k-fold CV \n",
    "\n",
    "cv = cross_val_score(lm, X_train, y_train, scoring='neg_mean_squared_error', cv=5)\n"
   ]
  },
  {
   "cell_type": "code",
   "execution_count": 19,
   "metadata": {},
   "outputs": [],
   "source": [
    "from sklearn.metrics import mean_squared_error"
   ]
  },
  {
   "cell_type": "code",
   "execution_count": 20,
   "metadata": {},
   "outputs": [
    {
     "name": "stdout",
     "output_type": "stream",
     "text": [
      "train rmse : 0.03794988280208901\n"
     ]
    },
    {
     "data": {
      "application/javascript": [
       "\n",
       "        if (window._pyforest_update_imports_cell) { window._pyforest_update_imports_cell('import numpy as np\\nimport pandas as pd'); }\n",
       "    "
      ],
      "text/plain": [
       "<IPython.core.display.Javascript object>"
      ]
     },
     "metadata": {},
     "output_type": "display_data"
    },
    {
     "name": "stdout",
     "output_type": "stream",
     "text": [
      "test rmse : 0.1948072965832877\n"
     ]
    }
   ],
   "source": [
    "y_hat_train = cv.predict(X_train)\n",
    "train_rmse = mean_squared_error(y_train, y_hat_train)\n",
    "print(\"train rmse : {}\".format(test_mse))\n",
    "test_rmse = np.sqrt(test_mse)\n",
    "print(\"test rmse : {}\".format(test_rmse))\n",
    "\n"
   ]
  },
  {
   "cell_type": "code",
   "execution_count": null,
   "metadata": {},
   "outputs": [],
   "source": []
  }
 ],
 "metadata": {
  "kernelspec": {
   "display_name": "Python 3",
   "language": "python",
   "name": "python3"
  },
  "language_info": {
   "codemirror_mode": {
    "name": "ipython",
    "version": 3
   },
   "file_extension": ".py",
   "mimetype": "text/x-python",
   "name": "python",
   "nbconvert_exporter": "python",
   "pygments_lexer": "ipython3",
   "version": "3.7.4"
  }
 },
 "nbformat": 4,
 "nbformat_minor": 4
}
