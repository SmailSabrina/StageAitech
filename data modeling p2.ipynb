{
 "cells": [
  {
   "cell_type": "code",
   "execution_count": 2,
   "metadata": {},
   "outputs": [],
   "source": [
    "import pandas as pd\n",
    "import numpy as np\n",
    "import matplotlib.pyplot as plt"
   ]
  },
  {
   "cell_type": "code",
   "execution_count": 31,
   "metadata": {},
   "outputs": [
    {
     "name": "stdout",
     "output_type": "stream",
     "text": [
      "Mean :116805.98370435035\n",
      "VAR : 203886.8023908932\n"
     ]
    },
    {
     "data": {
      "text/plain": [
       "(6873, 157)"
      ]
     },
     "execution_count": 31,
     "metadata": {},
     "output_type": "execute_result"
    }
   ],
   "source": [
    "data=pd.read_csv(\"data2/production.csv\")\n",
    "categ= pd.get_dummies(data, columns=[\"Area\"]) \n",
    "#categ.head()\n",
    "data= pd.merge(data,categ,how=\"inner\")\n",
    "###\n",
    "\n",
    "###droping columns\n",
    "X=data.drop([\"Area\",\"Citrus Production(hg/ha)\",\"Unnamed: 0\",\"Unnamed: 0.1\"],axis=1)\n",
    "Y=data[\"Citrus Production(hg/ha)\"]\n",
    "mean_y=np.mean(Y)\n",
    "std_var=np.var(Y)**(1/2)\n",
    "print(\"Mean :\"+str(mean_y))\n",
    "print(\"VAR : \"+str(std_var))\n",
    "#normalizing target data\n",
    "Y=(Y-mean_y)/std_var\n",
    "X.shape"
   ]
  },
  {
   "cell_type": "code",
   "execution_count": 32,
   "metadata": {},
   "outputs": [
    {
     "data": {
      "text/plain": [
       "70772.44640851556"
      ]
     },
     "execution_count": 32,
     "metadata": {},
     "output_type": "execute_result"
    }
   ],
   "source": [
    "X=X.loc[list(Y<3),:]\n",
    "Y=Y.loc[list(Y<3)]\n",
    "std_var=np.var(Y)**(1/2)*std_var\n",
    "std_var"
   ]
  },
  {
   "cell_type": "code",
   "execution_count": 5,
   "metadata": {},
   "outputs": [],
   "source": [
    "from sklearn.model_selection import train_test_split \n",
    "\n",
    "# Split into training and test set\n",
    "X_train, X_test, y_train, y_test =train_test_split(X,Y, test_size = 0.2, random_state=17)"
   ]
  },
  {
   "cell_type": "code",
   "execution_count": 6,
   "metadata": {},
   "outputs": [
    {
     "name": "stdout",
     "output_type": "stream",
     "text": [
      "[10:33:42] WARNING: src/objective/regression_obj.cu:152: reg:linear is now deprecated in favor of reg:squarederror.\n",
      "[10:33:55] WARNING: src/objective/regression_obj.cu:152: reg:linear is now deprecated in favor of reg:squarederror.\n",
      "[10:33:57] WARNING: src/objective/regression_obj.cu:152: reg:linear is now deprecated in favor of reg:squarederror.\n",
      "[10:33:59] WARNING: src/objective/regression_obj.cu:152: reg:linear is now deprecated in favor of reg:squarederror.\n",
      "[10:34:01] WARNING: src/objective/regression_obj.cu:152: reg:linear is now deprecated in favor of reg:squarederror.\n",
      "[10:34:03] WARNING: src/objective/regression_obj.cu:152: reg:linear is now deprecated in favor of reg:squarederror.\n"
     ]
    },
    {
     "data": {
      "text/plain": [
       "StackingRegressor(estimators=[('xgb',\n",
       "                               XGBRegressor(learning_rate=0.02, max_depth=2)),\n",
       "                              ('lgbm',\n",
       "                               LGBMRegressor(bagging_fraction=0.75,\n",
       "                                             bagging_freq=5, bagging_seed=7,\n",
       "                                             feature_fraction=0.4,\n",
       "                                             learning_rate=0.01, max_bin=200,\n",
       "                                             n_estimators=12000, num_leaves=4,\n",
       "                                             objective='regression'))],\n",
       "                  final_estimator=RandomForestRegressor())"
      ]
     },
     "execution_count": 6,
     "metadata": {},
     "output_type": "execute_result"
    }
   ],
   "source": [
    "import xgboost as xgb\n",
    "from sklearn.ensemble import RandomForestRegressor\n",
    "from sklearn.ensemble import StackingRegressor\n",
    "from sklearn.model_selection import train_test_split\n",
    "from lightgbm import LGBMRegressor\n",
    "import math\n",
    "from sklearn.metrics import mean_squared_error as MSE\n",
    "\n",
    "\n",
    "estimators =  [('xgb',xgb.XGBRegressor(n_estimators  = 100,learning_rate = 0.02, max_depth = 2)),\n",
    "               ('lgbm',LGBMRegressor(objective='regression', \n",
    "                                       num_leaves=4,\n",
    "                                       learning_rate=0.01, \n",
    "                                       n_estimators=12000, \n",
    "                                       max_bin=200, \n",
    "                                       bagging_fraction=0.75,\n",
    "                                       bagging_freq=5, \n",
    "                                       bagging_seed=7,\n",
    "                                       feature_fraction=0.4, \n",
    "                                       ))]\n",
    "\n",
    "ensemble = StackingRegressor(estimators      =  estimators,\n",
    "                             final_estimator =  RandomForestRegressor())\n",
    "\n",
    "# Fit ensemble using cross-validation\n",
    "ensemble.fit(X_train.values, y_train)\n"
   ]
  },
  {
   "cell_type": "code",
   "execution_count": 7,
   "metadata": {},
   "outputs": [
    {
     "name": "stdout",
     "output_type": "stream",
     "text": [
      "Root Mean Square Error train = 0.1484954421201869\n",
      "Root Mean Square Error test = 0.17912609658900502\n"
     ]
    }
   ],
   "source": [
    "from sklearn.metrics import mean_squared_error\n",
    "# Prediction\n",
    "predictions = ensemble.predict(X_train.values)\n",
    "print('Root Mean Square Error train = ' + str(math.sqrt(mean_squared_error(y_train, predictions))))\n",
    "# Prediction\n",
    "predictions = ensemble.predict(X_test.values)\n",
    "print('Root Mean Square Error test = ' + str(math.sqrt(mean_squared_error(y_test, predictions))))"
   ]
  },
  {
   "cell_type": "code",
   "execution_count": 11,
   "metadata": {},
   "outputs": [
    {
     "name": "stdout",
     "output_type": "stream",
     "text": [
      "Root Mean Square Error test = 0.39740929250081297\n"
     ]
    }
   ],
   "source": [
    "# Prediction\n",
    "predictions = ensemble.predict(X_train.values)\n",
    "print('Root Mean Square Error test = ' + str(math.sqrt(mean_squared_error(y_train, predictions))))"
   ]
  },
  {
   "cell_type": "code",
   "execution_count": 8,
   "metadata": {},
   "outputs": [
    {
     "name": "stdout",
     "output_type": "stream",
     "text": [
      "Root Mean Square Error test = 0.24188257322691975\n",
      "Root Mean Square Error train = 0.23861329923405672\n"
     ]
    }
   ],
   "source": [
    "from sklearn.ensemble import ExtraTreesRegressor\n",
    "\n",
    "clf = ExtraTreesRegressor(n_estimators=1000, max_depth=8,min_samples_split=2, random_state=2)\n",
    "# Fit rf to the training set    \n",
    "clf.fit(X_train.values,y_train) \n",
    "# \n",
    "predict1 = clf.predict(X_test)\n",
    "predict2 = clf.predict(X_train)\n",
    "print('Root Mean Square Error test = ' + str(math.sqrt((MSE(y_test, predict1)))))\n",
    "print('Root Mean Square Error train = ' + str(math.sqrt((MSE(y_train, predict2)))))\n"
   ]
  },
  {
   "cell_type": "code",
   "execution_count": 7,
   "metadata": {},
   "outputs": [
    {
     "name": "stdout",
     "output_type": "stream",
     "text": [
      "Net(\n",
      "  (fc1): Linear(in_features=157, out_features=16, bias=True)\n",
      "  (fc2): Linear(in_features=16, out_features=4, bias=True)\n",
      "  (fc3): Linear(in_features=4, out_features=1, bias=True)\n",
      ")\n"
     ]
    }
   ],
   "source": [
    "import torch\n",
    "import torch.nn as nn\n",
    "import torch.nn.functional as F\n",
    "\n",
    "\n",
    "class Net(nn.Module):\n",
    "\n",
    "    def __init__(self):\n",
    "        super(Net, self).__init__()\n",
    "        # an affine operation: y = Wx + b\n",
    "        self.fc1 = nn.Linear(157,16)  # 6*6 from image dimension\n",
    "        self.fc2 = nn.Linear(16,4)\n",
    "        self.fc3 = nn.Linear(4,1)\n",
    "\n",
    "    def forward(self, x):\n",
    "        x = F.relu(self.fc1(x))\n",
    "        x = F.relu(self.fc2(x))\n",
    "        x = self.fc3(x)\n",
    "        return x\n",
    "\n",
    "\n",
    "net = Net()\n",
    "print(net)"
   ]
  },
  {
   "cell_type": "code",
   "execution_count": 12,
   "metadata": {},
   "outputs": [],
   "source": [
    "Xt = torch.from_numpy(X_train.values)\n",
    "Yt = torch.from_numpy(y_train.values)"
   ]
  },
  {
   "cell_type": "code",
   "execution_count": 13,
   "metadata": {},
   "outputs": [
    {
     "ename": "RuntimeError",
     "evalue": "Expected object of scalar type Float but got scalar type Double for argument #2 'mat1' in call to _th_addmm",
     "output_type": "error",
     "traceback": [
      "\u001b[1;31m---------------------------------------------------------------------------\u001b[0m",
      "\u001b[1;31mRuntimeError\u001b[0m                              Traceback (most recent call last)",
      "\u001b[1;32m<ipython-input-13-0dc8cf7b1e8e>\u001b[0m in \u001b[0;36m<module>\u001b[1;34m\u001b[0m\n\u001b[0;32m      6\u001b[0m \u001b[1;31m# in your training loop:\u001b[0m\u001b[1;33m\u001b[0m\u001b[1;33m\u001b[0m\u001b[1;33m\u001b[0m\u001b[0m\n\u001b[0;32m      7\u001b[0m \u001b[0moptimizer\u001b[0m\u001b[1;33m.\u001b[0m\u001b[0mzero_grad\u001b[0m\u001b[1;33m(\u001b[0m\u001b[1;33m)\u001b[0m   \u001b[1;31m# zero the gradient buffers\u001b[0m\u001b[1;33m\u001b[0m\u001b[1;33m\u001b[0m\u001b[0m\n\u001b[1;32m----> 8\u001b[1;33m \u001b[0moutput\u001b[0m \u001b[1;33m=\u001b[0m \u001b[0mnet\u001b[0m\u001b[1;33m(\u001b[0m\u001b[0mXt\u001b[0m\u001b[1;33m)\u001b[0m\u001b[1;33m\u001b[0m\u001b[1;33m\u001b[0m\u001b[0m\n\u001b[0m\u001b[0;32m      9\u001b[0m \u001b[0mloss\u001b[0m \u001b[1;33m=\u001b[0m \u001b[0mcriterion\u001b[0m\u001b[1;33m(\u001b[0m\u001b[0moutput\u001b[0m\u001b[1;33m,\u001b[0m \u001b[0mtarget\u001b[0m\u001b[1;33m)\u001b[0m\u001b[1;33m\u001b[0m\u001b[1;33m\u001b[0m\u001b[0m\n\u001b[0;32m     10\u001b[0m \u001b[0mloss\u001b[0m\u001b[1;33m.\u001b[0m\u001b[0mbackward\u001b[0m\u001b[1;33m(\u001b[0m\u001b[1;33m)\u001b[0m\u001b[1;33m\u001b[0m\u001b[1;33m\u001b[0m\u001b[0m\n",
      "\u001b[1;32mC:\\ProgramData\\Anaconda3\\lib\\site-packages\\torch\\nn\\modules\\module.py\u001b[0m in \u001b[0;36m_call_impl\u001b[1;34m(self, *input, **kwargs)\u001b[0m\n\u001b[0;32m    720\u001b[0m             \u001b[0mresult\u001b[0m \u001b[1;33m=\u001b[0m \u001b[0mself\u001b[0m\u001b[1;33m.\u001b[0m\u001b[0m_slow_forward\u001b[0m\u001b[1;33m(\u001b[0m\u001b[1;33m*\u001b[0m\u001b[0minput\u001b[0m\u001b[1;33m,\u001b[0m \u001b[1;33m**\u001b[0m\u001b[0mkwargs\u001b[0m\u001b[1;33m)\u001b[0m\u001b[1;33m\u001b[0m\u001b[1;33m\u001b[0m\u001b[0m\n\u001b[0;32m    721\u001b[0m         \u001b[1;32melse\u001b[0m\u001b[1;33m:\u001b[0m\u001b[1;33m\u001b[0m\u001b[1;33m\u001b[0m\u001b[0m\n\u001b[1;32m--> 722\u001b[1;33m             \u001b[0mresult\u001b[0m \u001b[1;33m=\u001b[0m \u001b[0mself\u001b[0m\u001b[1;33m.\u001b[0m\u001b[0mforward\u001b[0m\u001b[1;33m(\u001b[0m\u001b[1;33m*\u001b[0m\u001b[0minput\u001b[0m\u001b[1;33m,\u001b[0m \u001b[1;33m**\u001b[0m\u001b[0mkwargs\u001b[0m\u001b[1;33m)\u001b[0m\u001b[1;33m\u001b[0m\u001b[1;33m\u001b[0m\u001b[0m\n\u001b[0m\u001b[0;32m    723\u001b[0m         for hook in itertools.chain(\n\u001b[0;32m    724\u001b[0m                 \u001b[0m_global_forward_hooks\u001b[0m\u001b[1;33m.\u001b[0m\u001b[0mvalues\u001b[0m\u001b[1;33m(\u001b[0m\u001b[1;33m)\u001b[0m\u001b[1;33m,\u001b[0m\u001b[1;33m\u001b[0m\u001b[1;33m\u001b[0m\u001b[0m\n",
      "\u001b[1;32m<ipython-input-7-42c2d70cd23a>\u001b[0m in \u001b[0;36mforward\u001b[1;34m(self, x)\u001b[0m\n\u001b[0;32m     14\u001b[0m \u001b[1;33m\u001b[0m\u001b[0m\n\u001b[0;32m     15\u001b[0m     \u001b[1;32mdef\u001b[0m \u001b[0mforward\u001b[0m\u001b[1;33m(\u001b[0m\u001b[0mself\u001b[0m\u001b[1;33m,\u001b[0m \u001b[0mx\u001b[0m\u001b[1;33m)\u001b[0m\u001b[1;33m:\u001b[0m\u001b[1;33m\u001b[0m\u001b[1;33m\u001b[0m\u001b[0m\n\u001b[1;32m---> 16\u001b[1;33m         \u001b[0mx\u001b[0m \u001b[1;33m=\u001b[0m \u001b[0mF\u001b[0m\u001b[1;33m.\u001b[0m\u001b[0mrelu\u001b[0m\u001b[1;33m(\u001b[0m\u001b[0mself\u001b[0m\u001b[1;33m.\u001b[0m\u001b[0mfc1\u001b[0m\u001b[1;33m(\u001b[0m\u001b[0mx\u001b[0m\u001b[1;33m)\u001b[0m\u001b[1;33m)\u001b[0m\u001b[1;33m\u001b[0m\u001b[1;33m\u001b[0m\u001b[0m\n\u001b[0m\u001b[0;32m     17\u001b[0m         \u001b[0mx\u001b[0m \u001b[1;33m=\u001b[0m \u001b[0mF\u001b[0m\u001b[1;33m.\u001b[0m\u001b[0mrelu\u001b[0m\u001b[1;33m(\u001b[0m\u001b[0mself\u001b[0m\u001b[1;33m.\u001b[0m\u001b[0mfc2\u001b[0m\u001b[1;33m(\u001b[0m\u001b[0mx\u001b[0m\u001b[1;33m)\u001b[0m\u001b[1;33m)\u001b[0m\u001b[1;33m\u001b[0m\u001b[1;33m\u001b[0m\u001b[0m\n\u001b[0;32m     18\u001b[0m         \u001b[0mx\u001b[0m \u001b[1;33m=\u001b[0m \u001b[0mself\u001b[0m\u001b[1;33m.\u001b[0m\u001b[0mfc3\u001b[0m\u001b[1;33m(\u001b[0m\u001b[0mx\u001b[0m\u001b[1;33m)\u001b[0m\u001b[1;33m\u001b[0m\u001b[1;33m\u001b[0m\u001b[0m\n",
      "\u001b[1;32mC:\\ProgramData\\Anaconda3\\lib\\site-packages\\torch\\nn\\modules\\module.py\u001b[0m in \u001b[0;36m_call_impl\u001b[1;34m(self, *input, **kwargs)\u001b[0m\n\u001b[0;32m    720\u001b[0m             \u001b[0mresult\u001b[0m \u001b[1;33m=\u001b[0m \u001b[0mself\u001b[0m\u001b[1;33m.\u001b[0m\u001b[0m_slow_forward\u001b[0m\u001b[1;33m(\u001b[0m\u001b[1;33m*\u001b[0m\u001b[0minput\u001b[0m\u001b[1;33m,\u001b[0m \u001b[1;33m**\u001b[0m\u001b[0mkwargs\u001b[0m\u001b[1;33m)\u001b[0m\u001b[1;33m\u001b[0m\u001b[1;33m\u001b[0m\u001b[0m\n\u001b[0;32m    721\u001b[0m         \u001b[1;32melse\u001b[0m\u001b[1;33m:\u001b[0m\u001b[1;33m\u001b[0m\u001b[1;33m\u001b[0m\u001b[0m\n\u001b[1;32m--> 722\u001b[1;33m             \u001b[0mresult\u001b[0m \u001b[1;33m=\u001b[0m \u001b[0mself\u001b[0m\u001b[1;33m.\u001b[0m\u001b[0mforward\u001b[0m\u001b[1;33m(\u001b[0m\u001b[1;33m*\u001b[0m\u001b[0minput\u001b[0m\u001b[1;33m,\u001b[0m \u001b[1;33m**\u001b[0m\u001b[0mkwargs\u001b[0m\u001b[1;33m)\u001b[0m\u001b[1;33m\u001b[0m\u001b[1;33m\u001b[0m\u001b[0m\n\u001b[0m\u001b[0;32m    723\u001b[0m         for hook in itertools.chain(\n\u001b[0;32m    724\u001b[0m                 \u001b[0m_global_forward_hooks\u001b[0m\u001b[1;33m.\u001b[0m\u001b[0mvalues\u001b[0m\u001b[1;33m(\u001b[0m\u001b[1;33m)\u001b[0m\u001b[1;33m,\u001b[0m\u001b[1;33m\u001b[0m\u001b[1;33m\u001b[0m\u001b[0m\n",
      "\u001b[1;32mC:\\ProgramData\\Anaconda3\\lib\\site-packages\\torch\\nn\\modules\\linear.py\u001b[0m in \u001b[0;36mforward\u001b[1;34m(self, input)\u001b[0m\n\u001b[0;32m     89\u001b[0m \u001b[1;33m\u001b[0m\u001b[0m\n\u001b[0;32m     90\u001b[0m     \u001b[1;32mdef\u001b[0m \u001b[0mforward\u001b[0m\u001b[1;33m(\u001b[0m\u001b[0mself\u001b[0m\u001b[1;33m,\u001b[0m \u001b[0minput\u001b[0m\u001b[1;33m:\u001b[0m \u001b[0mTensor\u001b[0m\u001b[1;33m)\u001b[0m \u001b[1;33m->\u001b[0m \u001b[0mTensor\u001b[0m\u001b[1;33m:\u001b[0m\u001b[1;33m\u001b[0m\u001b[1;33m\u001b[0m\u001b[0m\n\u001b[1;32m---> 91\u001b[1;33m         \u001b[1;32mreturn\u001b[0m \u001b[0mF\u001b[0m\u001b[1;33m.\u001b[0m\u001b[0mlinear\u001b[0m\u001b[1;33m(\u001b[0m\u001b[0minput\u001b[0m\u001b[1;33m,\u001b[0m \u001b[0mself\u001b[0m\u001b[1;33m.\u001b[0m\u001b[0mweight\u001b[0m\u001b[1;33m,\u001b[0m \u001b[0mself\u001b[0m\u001b[1;33m.\u001b[0m\u001b[0mbias\u001b[0m\u001b[1;33m)\u001b[0m\u001b[1;33m\u001b[0m\u001b[1;33m\u001b[0m\u001b[0m\n\u001b[0m\u001b[0;32m     92\u001b[0m \u001b[1;33m\u001b[0m\u001b[0m\n\u001b[0;32m     93\u001b[0m     \u001b[1;32mdef\u001b[0m \u001b[0mextra_repr\u001b[0m\u001b[1;33m(\u001b[0m\u001b[0mself\u001b[0m\u001b[1;33m)\u001b[0m \u001b[1;33m->\u001b[0m \u001b[0mstr\u001b[0m\u001b[1;33m:\u001b[0m\u001b[1;33m\u001b[0m\u001b[1;33m\u001b[0m\u001b[0m\n",
      "\u001b[1;32mC:\\ProgramData\\Anaconda3\\lib\\site-packages\\torch\\nn\\functional.py\u001b[0m in \u001b[0;36mlinear\u001b[1;34m(input, weight, bias)\u001b[0m\n\u001b[0;32m   1672\u001b[0m     \u001b[1;32mif\u001b[0m \u001b[0minput\u001b[0m\u001b[1;33m.\u001b[0m\u001b[0mdim\u001b[0m\u001b[1;33m(\u001b[0m\u001b[1;33m)\u001b[0m \u001b[1;33m==\u001b[0m \u001b[1;36m2\u001b[0m \u001b[1;32mand\u001b[0m \u001b[0mbias\u001b[0m \u001b[1;32mis\u001b[0m \u001b[1;32mnot\u001b[0m \u001b[1;32mNone\u001b[0m\u001b[1;33m:\u001b[0m\u001b[1;33m\u001b[0m\u001b[1;33m\u001b[0m\u001b[0m\n\u001b[0;32m   1673\u001b[0m         \u001b[1;31m# fused op is marginally faster\u001b[0m\u001b[1;33m\u001b[0m\u001b[1;33m\u001b[0m\u001b[1;33m\u001b[0m\u001b[0m\n\u001b[1;32m-> 1674\u001b[1;33m         \u001b[0mret\u001b[0m \u001b[1;33m=\u001b[0m \u001b[0mtorch\u001b[0m\u001b[1;33m.\u001b[0m\u001b[0maddmm\u001b[0m\u001b[1;33m(\u001b[0m\u001b[0mbias\u001b[0m\u001b[1;33m,\u001b[0m \u001b[0minput\u001b[0m\u001b[1;33m,\u001b[0m \u001b[0mweight\u001b[0m\u001b[1;33m.\u001b[0m\u001b[0mt\u001b[0m\u001b[1;33m(\u001b[0m\u001b[1;33m)\u001b[0m\u001b[1;33m)\u001b[0m\u001b[1;33m\u001b[0m\u001b[1;33m\u001b[0m\u001b[0m\n\u001b[0m\u001b[0;32m   1675\u001b[0m     \u001b[1;32melse\u001b[0m\u001b[1;33m:\u001b[0m\u001b[1;33m\u001b[0m\u001b[1;33m\u001b[0m\u001b[0m\n\u001b[0;32m   1676\u001b[0m         \u001b[0moutput\u001b[0m \u001b[1;33m=\u001b[0m \u001b[0minput\u001b[0m\u001b[1;33m.\u001b[0m\u001b[0mmatmul\u001b[0m\u001b[1;33m(\u001b[0m\u001b[0mweight\u001b[0m\u001b[1;33m.\u001b[0m\u001b[0mt\u001b[0m\u001b[1;33m(\u001b[0m\u001b[1;33m)\u001b[0m\u001b[1;33m)\u001b[0m\u001b[1;33m\u001b[0m\u001b[1;33m\u001b[0m\u001b[0m\n",
      "\u001b[1;31mRuntimeError\u001b[0m: Expected object of scalar type Float but got scalar type Double for argument #2 'mat1' in call to _th_addmm"
     ]
    }
   ],
   "source": [
    "import torch.optim as optim\n",
    "\n",
    "# create your optimizer\n",
    "optimizer = optim.SGD(net.parameters(), lr=0.01)\n",
    "\n",
    "# in your training loop:\n",
    "optimizer.zero_grad()   # zero the gradient buffers\n",
    "output = net(Xt)\n",
    "loss = criterion(output, target)\n",
    "loss.backward()\n",
    "optimizer.step()    # Does the update"
   ]
  },
  {
   "cell_type": "code",
   "execution_count": 52,
   "metadata": {},
   "outputs": [
    {
     "data": {
      "text/html": [
       "<div>\n",
       "<style scoped>\n",
       "    .dataframe tbody tr th:only-of-type {\n",
       "        vertical-align: middle;\n",
       "    }\n",
       "\n",
       "    .dataframe tbody tr th {\n",
       "        vertical-align: top;\n",
       "    }\n",
       "\n",
       "    .dataframe thead th {\n",
       "        text-align: right;\n",
       "    }\n",
       "</style>\n",
       "<table border=\"1\" class=\"dataframe\">\n",
       "  <thead>\n",
       "    <tr style=\"text-align: right;\">\n",
       "      <th></th>\n",
       "      <th>algo</th>\n",
       "      <th>param</th>\n",
       "      <th>test mse(X)</th>\n",
       "      <th>train mse(X)</th>\n",
       "      <th>test mse(X reduced)</th>\n",
       "      <th>train mse(X reduced)</th>\n",
       "    </tr>\n",
       "  </thead>\n",
       "  <tbody>\n",
       "    <tr>\n",
       "      <td>0</td>\n",
       "      <td>Linear regression</td>\n",
       "      <td>NaN</td>\n",
       "      <td>0.826416</td>\n",
       "      <td>0.726966</td>\n",
       "      <td>0.172370</td>\n",
       "      <td>0.169471</td>\n",
       "    </tr>\n",
       "    <tr>\n",
       "      <td>1</td>\n",
       "      <td>Linear regression with CV</td>\n",
       "      <td>NaN</td>\n",
       "      <td>0.976110</td>\n",
       "      <td>0.700230</td>\n",
       "      <td>0.194807</td>\n",
       "      <td>0.037950</td>\n",
       "    </tr>\n",
       "    <tr>\n",
       "      <td>2</td>\n",
       "      <td>Elastic Net (tunning with gridsearch)</td>\n",
       "      <td>{'lasso__alpha': 0.01}</td>\n",
       "      <td>0.770946</td>\n",
       "      <td>0.643378</td>\n",
       "      <td>0.182603</td>\n",
       "      <td>0.179601</td>\n",
       "    </tr>\n",
       "    <tr>\n",
       "      <td>3</td>\n",
       "      <td>SGDRegressor</td>\n",
       "      <td>{loss=squared_epsilon_insensitive,learning_rat...</td>\n",
       "      <td>0.770946</td>\n",
       "      <td>0.643378</td>\n",
       "      <td>0.175284</td>\n",
       "      <td>0.171893</td>\n",
       "    </tr>\n",
       "    <tr>\n",
       "      <td>4</td>\n",
       "      <td>SVR</td>\n",
       "      <td>{kernel='rbf', C=10000, gamma='auto',coef0=1,v...</td>\n",
       "      <td>0.630053</td>\n",
       "      <td>0.092600</td>\n",
       "      <td>0.204866</td>\n",
       "      <td>0.078860</td>\n",
       "    </tr>\n",
       "    <tr>\n",
       "      <td>5</td>\n",
       "      <td>RF</td>\n",
       "      <td>{n_estimator=100}</td>\n",
       "      <td>0.188616</td>\n",
       "      <td>0.145480</td>\n",
       "      <td>0.130241</td>\n",
       "      <td>0.045007</td>\n",
       "    </tr>\n",
       "    <tr>\n",
       "      <td>6</td>\n",
       "      <td>XGBoost (tunning with gridsearch)</td>\n",
       "      <td>{'gamma': 0.01, 'learning rate': 0.01, 'max_de...</td>\n",
       "      <td>0.357840</td>\n",
       "      <td>0.148457</td>\n",
       "      <td>0.116050</td>\n",
       "      <td>0.057461</td>\n",
       "    </tr>\n",
       "  </tbody>\n",
       "</table>\n",
       "</div>"
      ],
      "text/plain": [
       "                                    algo  \\\n",
       "0                      Linear regression   \n",
       "1              Linear regression with CV   \n",
       "2  Elastic Net (tunning with gridsearch)   \n",
       "3                           SGDRegressor   \n",
       "4                                    SVR   \n",
       "5                                    RF    \n",
       "6      XGBoost (tunning with gridsearch)   \n",
       "\n",
       "                                               param  test mse(X)  \\\n",
       "0                                                NaN     0.826416   \n",
       "1                                                NaN     0.976110   \n",
       "2                             {'lasso__alpha': 0.01}     0.770946   \n",
       "3  {loss=squared_epsilon_insensitive,learning_rat...     0.770946   \n",
       "4  {kernel='rbf', C=10000, gamma='auto',coef0=1,v...     0.630053   \n",
       "5                                  {n_estimator=100}     0.188616   \n",
       "6  {'gamma': 0.01, 'learning rate': 0.01, 'max_de...     0.357840   \n",
       "\n",
       "   train mse(X)  test mse(X reduced)  train mse(X reduced)  \n",
       "0      0.726966             0.172370              0.169471  \n",
       "1      0.700230             0.194807              0.037950  \n",
       "2      0.643378             0.182603              0.179601  \n",
       "3      0.643378             0.175284              0.171893  \n",
       "4      0.092600             0.204866              0.078860  \n",
       "5      0.145480             0.130241              0.045007  \n",
       "6      0.148457             0.116050              0.057461  "
      ]
     },
     "execution_count": 52,
     "metadata": {},
     "output_type": "execute_result"
    }
   ],
   "source": [
    "res=pd.read_csv(\"result.csv\")\n",
    "res"
   ]
  },
  {
   "cell_type": "code",
   "execution_count": 53,
   "metadata": {},
   "outputs": [],
   "source": [
    "res[\"error in kg(X reduced)\"]=((res[\"test mse(X reduced)\"]+res[\"train mse(X reduced)\"])/20)*std_var\n",
    "res[\"error in kg(X)\"]=((res[\"test mse(X)\"]+res[\"train mse(X)\"])/20)*std_var"
   ]
  },
  {
   "cell_type": "code",
   "execution_count": 54,
   "metadata": {},
   "outputs": [
    {
     "data": {
      "text/plain": [
       "70772.44640851556"
      ]
     },
     "execution_count": 54,
     "metadata": {},
     "output_type": "execute_result"
    }
   ],
   "source": [
    "std_var"
   ]
  },
  {
   "cell_type": "code",
   "execution_count": 55,
   "metadata": {},
   "outputs": [
    {
     "data": {
      "text/html": [
       "<div>\n",
       "<style scoped>\n",
       "    .dataframe tbody tr th:only-of-type {\n",
       "        vertical-align: middle;\n",
       "    }\n",
       "\n",
       "    .dataframe tbody tr th {\n",
       "        vertical-align: top;\n",
       "    }\n",
       "\n",
       "    .dataframe thead th {\n",
       "        text-align: right;\n",
       "    }\n",
       "</style>\n",
       "<table border=\"1\" class=\"dataframe\">\n",
       "  <thead>\n",
       "    <tr style=\"text-align: right;\">\n",
       "      <th></th>\n",
       "      <th>algo</th>\n",
       "      <th>param</th>\n",
       "      <th>test mse(X)</th>\n",
       "      <th>train mse(X)</th>\n",
       "      <th>test mse(X reduced)</th>\n",
       "      <th>train mse(X reduced)</th>\n",
       "      <th>error in kg(X reduced)</th>\n",
       "      <th>error in kg(X)</th>\n",
       "    </tr>\n",
       "  </thead>\n",
       "  <tbody>\n",
       "    <tr>\n",
       "      <td>0</td>\n",
       "      <td>Linear regression</td>\n",
       "      <td>NaN</td>\n",
       "      <td>0.826416</td>\n",
       "      <td>0.726966</td>\n",
       "      <td>0.172370</td>\n",
       "      <td>0.169471</td>\n",
       "      <td>1209.644910</td>\n",
       "      <td>5496.830813</td>\n",
       "    </tr>\n",
       "    <tr>\n",
       "      <td>1</td>\n",
       "      <td>Linear regression with CV</td>\n",
       "      <td>NaN</td>\n",
       "      <td>0.976110</td>\n",
       "      <td>0.700230</td>\n",
       "      <td>0.194807</td>\n",
       "      <td>0.037950</td>\n",
       "      <td>823.639750</td>\n",
       "      <td>5931.934141</td>\n",
       "    </tr>\n",
       "    <tr>\n",
       "      <td>2</td>\n",
       "      <td>Elastic Net (tunning with gridsearch)</td>\n",
       "      <td>{'lasso__alpha': 0.01}</td>\n",
       "      <td>0.770946</td>\n",
       "      <td>0.643378</td>\n",
       "      <td>0.182603</td>\n",
       "      <td>0.179601</td>\n",
       "      <td>1281.702869</td>\n",
       "      <td>5004.756301</td>\n",
       "    </tr>\n",
       "    <tr>\n",
       "      <td>3</td>\n",
       "      <td>SGDRegressor</td>\n",
       "      <td>{loss=squared_epsilon_insensitive,learning_rat...</td>\n",
       "      <td>0.770946</td>\n",
       "      <td>0.643378</td>\n",
       "      <td>0.175284</td>\n",
       "      <td>0.171893</td>\n",
       "      <td>1228.528401</td>\n",
       "      <td>5004.756301</td>\n",
       "    </tr>\n",
       "    <tr>\n",
       "      <td>4</td>\n",
       "      <td>SVR</td>\n",
       "      <td>{kernel='rbf', C=10000, gamma='auto',coef0=1,v...</td>\n",
       "      <td>0.630053</td>\n",
       "      <td>0.092600</td>\n",
       "      <td>0.204866</td>\n",
       "      <td>0.078860</td>\n",
       "      <td>1004.001167</td>\n",
       "      <td>2557.195300</td>\n",
       "    </tr>\n",
       "    <tr>\n",
       "      <td>5</td>\n",
       "      <td>RF</td>\n",
       "      <td>{n_estimator=100}</td>\n",
       "      <td>0.188616</td>\n",
       "      <td>0.145480</td>\n",
       "      <td>0.130241</td>\n",
       "      <td>0.045007</td>\n",
       "      <td>620.135466</td>\n",
       "      <td>1182.242597</td>\n",
       "    </tr>\n",
       "    <tr>\n",
       "      <td>6</td>\n",
       "      <td>XGBoost (tunning with gridsearch)</td>\n",
       "      <td>{'gamma': 0.01, 'learning rate': 0.01, 'max_de...</td>\n",
       "      <td>0.357840</td>\n",
       "      <td>0.148457</td>\n",
       "      <td>0.116050</td>\n",
       "      <td>0.057461</td>\n",
       "      <td>613.989833</td>\n",
       "      <td>1791.591779</td>\n",
       "    </tr>\n",
       "  </tbody>\n",
       "</table>\n",
       "</div>"
      ],
      "text/plain": [
       "                                    algo  \\\n",
       "0                      Linear regression   \n",
       "1              Linear regression with CV   \n",
       "2  Elastic Net (tunning with gridsearch)   \n",
       "3                           SGDRegressor   \n",
       "4                                    SVR   \n",
       "5                                    RF    \n",
       "6      XGBoost (tunning with gridsearch)   \n",
       "\n",
       "                                               param  test mse(X)  \\\n",
       "0                                                NaN     0.826416   \n",
       "1                                                NaN     0.976110   \n",
       "2                             {'lasso__alpha': 0.01}     0.770946   \n",
       "3  {loss=squared_epsilon_insensitive,learning_rat...     0.770946   \n",
       "4  {kernel='rbf', C=10000, gamma='auto',coef0=1,v...     0.630053   \n",
       "5                                  {n_estimator=100}     0.188616   \n",
       "6  {'gamma': 0.01, 'learning rate': 0.01, 'max_de...     0.357840   \n",
       "\n",
       "   train mse(X)  test mse(X reduced)  train mse(X reduced)  \\\n",
       "0      0.726966             0.172370              0.169471   \n",
       "1      0.700230             0.194807              0.037950   \n",
       "2      0.643378             0.182603              0.179601   \n",
       "3      0.643378             0.175284              0.171893   \n",
       "4      0.092600             0.204866              0.078860   \n",
       "5      0.145480             0.130241              0.045007   \n",
       "6      0.148457             0.116050              0.057461   \n",
       "\n",
       "   error in kg(X reduced)  error in kg(X)  \n",
       "0             1209.644910     5496.830813  \n",
       "1              823.639750     5931.934141  \n",
       "2             1281.702869     5004.756301  \n",
       "3             1228.528401     5004.756301  \n",
       "4             1004.001167     2557.195300  \n",
       "5              620.135466     1182.242597  \n",
       "6              613.989833     1791.591779  "
      ]
     },
     "execution_count": 55,
     "metadata": {},
     "output_type": "execute_result"
    }
   ],
   "source": [
    "res"
   ]
  },
  {
   "cell_type": "code",
   "execution_count": null,
   "metadata": {},
   "outputs": [],
   "source": []
  }
 ],
 "metadata": {
  "kernelspec": {
   "display_name": "Python 3",
   "language": "python",
   "name": "python3"
  },
  "language_info": {
   "codemirror_mode": {
    "name": "ipython",
    "version": 3
   },
   "file_extension": ".py",
   "mimetype": "text/x-python",
   "name": "python",
   "nbconvert_exporter": "python",
   "pygments_lexer": "ipython3",
   "version": "3.7.4"
  }
 },
 "nbformat": 4,
 "nbformat_minor": 2
}
